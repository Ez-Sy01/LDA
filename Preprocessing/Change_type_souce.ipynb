{
 "cells": [
  {
   "cell_type": "code",
   "execution_count": 36,
   "metadata": {},
   "outputs": [],
   "source": [
    "import numpy as np\n",
    "from PIL import Image\n",
    "import cv2"
   ]
  },
  {
   "cell_type": "code",
   "execution_count": 37,
   "metadata": {},
   "outputs": [],
   "source": [
    "# path = 'E:\\논문/LDA/AR_warp_zip/test2/M-001-01.bmp'\n",
    "# image = Image.open(path)\n",
    "# image = np.array(image)\n",
    "# image = cv2.cvtColor(image,cv2.COLOR_BGR2GRAY)\n",
    "# cv2.imwrite(r'test_1.png',image)\n",
    "# print(image)"
   ]
  },
  {
   "cell_type": "code",
   "execution_count": 66,
   "metadata": {},
   "outputs": [],
   "source": [
    "def fn(path,train_set,name):\n",
    "    filename = list()\n",
    "    for i in range(train_set):\n",
    "        if i < 9:\n",
    "            filename.append(path + 'M-0' + name + '-0' + str(i+1) + '.bmp')\n",
    "        else:\n",
    "            filename.append(path + 'M-0' + name + '-' + str(i+1) + '.bmp')\n",
    "            #name이 10 미만일 경우 M-00사용\n",
    "    return filename"
   ]
  },
  {
   "cell_type": "code",
   "execution_count": 39,
   "metadata": {},
   "outputs": [],
   "source": [
    "def IM(filename,train_set):\n",
    "    images = list()\n",
    "    for i in range(train_set):\n",
    "        images.append(Image.open(filename[i]))\n",
    "        images[i] = np.array(images[i])\n",
    "        images[i] = cv2.cvtColor(images[i],cv2.COLOR_BGR2GRAY)\n",
    "    return images"
   ]
  },
  {
   "cell_type": "code",
   "execution_count": 40,
   "metadata": {},
   "outputs": [],
   "source": [
    "def Save(images,train_set,name):\n",
    "    for i in range(train_set):\n",
    "        cv2.imwrite(r'test_' + name +'_' + str(i+1) +'.png',images[i])"
   ]
  },
  {
   "cell_type": "code",
   "execution_count": 149,
   "metadata": {},
   "outputs": [],
   "source": [
    "path = 'E:\\논문/LDA/AR_warp_zip/test2/'\n",
    "name = '50'\n",
    "train_set = 13"
   ]
  },
  {
   "cell_type": "code",
   "execution_count": 150,
   "metadata": {},
   "outputs": [],
   "source": [
    "filename = fn(path,train_set,name)\n",
    "images = IM(filename,train_set)\n",
    "Save(images,train_set,name)"
   ]
  },
  {
   "cell_type": "code",
   "execution_count": null,
   "metadata": {},
   "outputs": [],
   "source": []
  }
 ],
 "metadata": {
  "kernelspec": {
   "display_name": "Python 3",
   "language": "python",
   "name": "python3"
  },
  "language_info": {
   "codemirror_mode": {
    "name": "ipython",
    "version": 3
   },
   "file_extension": ".py",
   "mimetype": "text/x-python",
   "name": "python",
   "nbconvert_exporter": "python",
   "pygments_lexer": "ipython3",
   "version": "3.7.6"
  }
 },
 "nbformat": 4,
 "nbformat_minor": 4
}

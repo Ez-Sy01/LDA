{
 "cells": [
  {
   "cell_type": "code",
   "execution_count": 56,
   "id": "55dbf139-e5bc-462c-981b-2933a1a7cc6f",
   "metadata": {},
   "outputs": [],
   "source": [
    "import cv2\n",
    "import numpy as np\n",
    "from PIL import Image"
   ]
  },
  {
   "cell_type": "code",
   "execution_count": 57,
   "id": "082e5316-b499-447e-b96e-dc1b6e47738e",
   "metadata": {},
   "outputs": [],
   "source": [
    "# path = 'E:\\논문/LDA/AR_warp_zip/test2/M-001-01.bmp'\n",
    "# image = Image.open(path)\n",
    "# image = np.array(image)\n",
    "# image = cv2.cvtColor(image,cv2.COLOR_BGR2GRAY)\n",
    "# cv2.imwrite(r'test_1.png',image)\n",
    "# print(image)"
   ]
  },
  {
   "cell_type": "code",
   "execution_count": 58,
   "id": "91cfaf7e-9063-4c28-835e-0f3f4ea253ee",
   "metadata": {},
   "outputs": [],
   "source": [
    "def fn(path,train_set,Gender_info,name):\n",
    "    print(name)\n",
    "    if name < 10:\n",
    "        name_set = '00' + str(name)\n",
    "    else:\n",
    "        name_set = '0' + str(name)\n",
    "    filename = list()\n",
    "    for i in range(train_set):\n",
    "        if i < 9:\n",
    "            filename.append(path + Gender_info + '-' + name_set + '-0' + str(i+1) + '.bmp')\n",
    "        else:\n",
    "            filename.append(path + Gender_info + '-' + name_set + '-'  + str(i+1) + '.bmp')\n",
    "    return filename"
   ]
  },
  {
   "cell_type": "code",
   "execution_count": 64,
   "id": "14c1b4c5-56ac-4000-8957-4f5f79739776",
   "metadata": {},
   "outputs": [],
   "source": [
    "def IM(filename,train_set):\n",
    "    images = list()\n",
    "    for i in range(train_set):\n",
    "        images.append(Image.open(filename[i]))\n",
    "        images[i] = np.array(images[i])\n",
    "        images[i] = cv2.cvtColor(images[i],cv2.COLOR_BGR2GRAY)\n",
    "    return images"
   ]
  },
  {
   "cell_type": "code",
   "execution_count": 65,
   "id": "270a8a2b-e5cf-4989-a0d8-58f01777d5b6",
   "metadata": {},
   "outputs": [],
   "source": [
    "def Save(images,train_set,name):\n",
    "    for i in range(train_set):\n",
    "        cv2.imwrite(r'test_' + name + '-' + str(i+1)  + '.png',images[i])"
   ]
  },
  {
   "cell_type": "code",
   "execution_count": 66,
   "id": "b6631d2a-16d7-4c0c-ba7c-d4a43e85615d",
   "metadata": {},
   "outputs": [],
   "source": [
    "path = 'E:\\논문/LDA/AR_warp_zip/test2/'\n",
    "train_set = 13\n",
    "Gender_info = 'W' # W or M\n",
    "name = 1\n",
    "total_set = 50"
   ]
  },
  {
   "cell_type": "code",
   "execution_count": 68,
   "id": "8a275bb3-2175-4a5e-9f52-f111c64270f9",
   "metadata": {},
   "outputs": [
    {
     "name": "stdout",
     "output_type": "stream",
     "text": [
      "1\n",
      "2\n",
      "3\n",
      "4\n",
      "5\n",
      "6\n",
      "7\n",
      "8\n",
      "9\n",
      "10\n",
      "11\n",
      "12\n",
      "13\n",
      "14\n",
      "15\n",
      "16\n",
      "17\n",
      "18\n",
      "19\n",
      "20\n",
      "21\n",
      "22\n",
      "23\n",
      "24\n",
      "25\n",
      "26\n",
      "27\n",
      "28\n",
      "29\n",
      "30\n",
      "31\n",
      "32\n",
      "33\n",
      "34\n",
      "35\n",
      "36\n",
      "37\n",
      "38\n",
      "39\n",
      "40\n",
      "41\n",
      "42\n",
      "43\n",
      "44\n",
      "45\n",
      "46\n",
      "47\n",
      "48\n",
      "49\n",
      "50\n"
     ]
    }
   ],
   "source": [
    "for i in range(total_set):\n",
    "    filename = fn(path,train_set,Gender_info,name)\n",
    "    images = IM(filename,train_set)\n",
    "    Save(images,train_set,str(name))\n",
    "    name += 1"
   ]
  },
  {
   "cell_type": "code",
   "execution_count": null,
   "id": "ef5ae776",
   "metadata": {},
   "outputs": [],
   "source": []
  }
 ],
 "metadata": {
  "kernelspec": {
   "display_name": "Python 3",
   "language": "python",
   "name": "python3"
  },
  "language_info": {
   "codemirror_mode": {
    "name": "ipython",
    "version": 3
   },
   "file_extension": ".py",
   "mimetype": "text/x-python",
   "name": "python",
   "nbconvert_exporter": "python",
   "pygments_lexer": "ipython3",
   "version": "3.8.8"
  }
 },
 "nbformat": 4,
 "nbformat_minor": 5
}

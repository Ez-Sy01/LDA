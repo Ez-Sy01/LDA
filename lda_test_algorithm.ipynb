{
 "cells": [
  {
   "cell_type": "code",
   "execution_count": 47,
   "metadata": {},
   "outputs": [],
   "source": [
    "import numpy as np\n",
    "from scipy import linalg\n",
    "import matplotlib.pyplot as plt"
   ]
  },
  {
   "cell_type": "code",
   "execution_count": 48,
   "metadata": {},
   "outputs": [],
   "source": [
    "cls1_data = np.array([[2.93,6.634],[2.53,7.79],[3.57,5.65],[3.16,5.47]]) # class1인 데이터 포인트\n",
    "cls2_data = np.array([[2.58,4.44],[2.16,6.22],[3.27,3.52]]) # class2 인 데이터 포인트\n",
    "\n",
    "E_cls1 = np.mean(cls1_data, axis = 0)\n",
    "E_cls2 = np.mean(cls2_data, axis = 0)\n",
    "E_all = (np.sum(cls1_data, axis = 0) + np.sum(cls2_data, axis = 0)) / (np.size(cls1_data,0) + np.size(cls2_data,0))"
   ]
  },
  {
   "cell_type": "code",
   "execution_count": 49,
   "metadata": {},
   "outputs": [
    {
     "data": {
      "image/png": "[encoded data removed]",
      "text/plain": [
       "<Figure size 432x288 with 1 Axes>"
      ]
     },
     "metadata": {
      "needs_background": "light"
     },
     "output_type": "display_data"
    }
   ],
   "source": [
    "plt.figure('data_point_variance')\n",
    "plt.axis([0,10,0,10])\n",
    "plt.plot(cls1_data[:,0],cls1_data[:,1],'.',color = 'r')\n",
    "plt.plot(cls2_data[:,0],cls2_data[:,1],'.', color = 'b')\n",
    "plt.show()"
   ]
  },
  {
   "cell_type": "code",
   "execution_count": 50,
   "metadata": {},
   "outputs": [
    {
     "name": "stdout",
     "output_type": "stream",
     "text": [
      "[[0.03489949 0.15340367]\n",
      " [0.15340367 0.67429888]]\n"
     ]
    }
   ],
   "source": [
    "# between-class scatter matrix\n",
    "x1 = np.array([E_cls1 - E_all])\n",
    "x2 = np.array([E_cls2 - E_all])\n",
    "all_size = np.size(cls1_data,0) + np.size(cls2_data,0)\n",
    "Sb = (np.size(cls1_data,0) / all_size) * (np.transpose(x1) * x1) + np.size(cls2_data,0) / all_size * (np.transpose(x2) * x2)\n",
    "print(Sb)"
   ]
  },
  {
   "cell_type": "code",
   "execution_count": 51,
   "metadata": {},
   "outputs": [
    {
     "name": "stdout",
     "output_type": "stream",
     "text": [
      "[[ 0.59338571 -1.33609714]\n",
      " [-1.33609714  3.56552686]]\n"
     ]
    }
   ],
   "source": [
    "# within-class scatter matrix\n",
    "y1 = np.zeros([np.size(Sb,0),np.size(Sb,1)])\n",
    "for i in range(np.size(cls1_data,0)):\n",
    "    y1 = y1 + (np.transpose(np.array([(cls1_data[i,:] - E_cls1)])) * (cls1_data[i,:] - E_cls1))\n",
    "\n",
    "y2 = 0\n",
    "for i in range(np.size(cls2_data,0)):\n",
    "    y2 = y2 + (np.transpose(np.array([(cls2_data[i,:] - E_cls2)])) * (cls2_data[i,:] - E_cls2))\n",
    "\n",
    "Sw = (np.size(cls1_data,0) / all_size) * y1 + (np.size(cls2_data,0) / all_size) * y2\n",
    "print(Sw)"
   ]
  },
  {
   "cell_type": "code",
   "execution_count": 52,
   "metadata": {},
   "outputs": [
    {
     "name": "stdout",
     "output_type": "stream",
     "text": [
      "[0.04620784+0.j 1.54057586+0.j]\n",
      "[[-0.88262702 -0.47007398]\n",
      " [ 0.47007398 -0.88262702]]\n"
     ]
    }
   ],
   "source": [
    "# 데이터 포인트들을 투영시킬 벡터 찾기\n",
    "# Sb = np.array([Sb])\n",
    "# Sw = np.array([Sw])\n",
    "eig_val, eig_vec = linalg.eig(linalg.inv(Sw) * Sb)\n",
    "# eig_val,eig_vec = np.linalg.eig(np.transpose(Sw) * Sb) // linalg.inv(np.transpose(Sw) * Sb)\n",
    "largest_eig_val, val_index = np.max(eig_val),np.argmax(eig_val)\n",
    "vector = eig_vec[:,val_index] # 가장 큰 고유값에 대응하는 고유 벡터\n",
    "print(eig_val)\n",
    "print(eig_vec)"
   ]
  },
  {
   "cell_type": "code",
   "execution_count": 53,
   "metadata": {},
   "outputs": [],
   "source": [
    "# 그 벡터로 데이터 포인트 투영\n",
    "new_cls1_data = cls1_data * vector\n",
    "new_cls2_data = cls2_data * vector"
   ]
  },
  {
   "cell_type": "code",
   "execution_count": 54,
   "metadata": {},
   "outputs": [
    {
     "data": {
      "image/png": "[encoded data removed]",
      "text/plain": [
       "<Figure size 432x288 with 1 Axes>"
      ]
     },
     "metadata": {
      "needs_background": "light"
     },
     "output_type": "display_data"
    }
   ],
   "source": [
    "# 그래프에 그 벡터 그리기\n",
    "plt.figure('graph - draw vector')\n",
    "# plt.axis([0, 10, 0, 10])\n",
    "a = vector[1] / vector[0] # 변화량\n",
    "plt.plot([0,10],[0,10 * a],'-g') # 벡터 그리기 (원점에서부터 x = 10에 해당하는 y값 까지)\n",
    "\n",
    "for i in range(np.size(cls1_data,0)):\n",
    "    plt.plot(cls1_data[i,0],cls1_data[i,1], '*r')\n",
    "for j in range(np.size(cls2_data,0)):\n",
    "    plt.plot(cls2_data[j,0],cls2_data[j,1] ,'*b')\n",
    "    \n",
    "#데이터 포인트들이 투영된 모습 그리기\n",
    "for i in range(np.size(cls1_data,0)):\n",
    "    new_x = (cls1_data[i,0] + a * cls1_data[i,1]) / (a**2 + 1)\n",
    "    new_y = a * new_x\n",
    "    plt.plot(new_x, new_y,'*r') # class 1 데이터포인트들이 그 벡터에 투영된 모습\n",
    "    plt.plot([cls1_data[i,0],new_x],[cls1_data[i,1],new_y],'--k')\n",
    "    \n",
    "for i in range(np.size(cls2_data,0)):\n",
    "    new_x = (cls2_data[i,0] + a * cls2_data[i,1]) / (a**2 + 1)\n",
    "    new_y = a * new_x\n",
    "    plt.plot(new_x,new_y,'*b')\n",
    "    plt.plot([cls2_data[i,0],new_x], [cls2_data[i,1],new_y],'--k')\n",
    "\n",
    "plt.show()"
   ]
  },
  {
   "cell_type": "code",
   "execution_count": 55,
   "metadata": {},
   "outputs": [
    {
     "name": "stdout",
     "output_type": "stream",
     "text": [
      "0.5828917345805573\n",
      "0.05295762111035396\n",
      "class -> blue\n"
     ]
    },
    {
     "data": {
      "image/png": "[encoded data removed]",
      "text/plain": [
       "<Figure size 432x288 with 1 Axes>"
      ]
     },
     "metadata": {
      "needs_background": "light"
     },
     "output_type": "display_data"
    }
   ],
   "source": [
    "# 새로운 데이터 포인트의 클래스 예측하기\n",
    "test_data = np.array([4.81,3.46])\n",
    "plt.plot(test_data[0],test_data[1],'*g') # 테스트 데이터 포인트 그리기\n",
    "result = test_data * vector # 위의 벡터로 테스트 데이터 포인트 투영\n",
    "\n",
    "projected_test_data_x = (test_data[0] + a * test_data[1]) / (a**2 + 1)\n",
    "projected_test_data_y = a * projected_test_data_x \n",
    "plt.plot([test_data[0],projected_test_data_x],[test_data[1],projected_test_data_y],'--k')\n",
    "\n",
    "temp1 = new_cls1_data - result # 클래스1에 속하는 데이터의 투영들과 테스트 데이터의 투영의 차이\n",
    "temp2 = new_cls2_data - result # 클래스2에 속하는 데이터의 투영들과 테스트 데이터의 투영의 차이\n",
    "print(np.min(np.abs(temp1)))\n",
    "print(np.min(np.abs(temp2)))\n",
    "if np.min(np.abs(temp1)) < np.min(np.abs(temp2)):\n",
    "    print('class -> {}'.format('red'))\n",
    "else:\n",
    "    print('class -> {}'.format('blue'))"
   ]
  },
  {
   "cell_type": "code",
   "execution_count": null,
   "metadata": {},
   "outputs": [],
   "source": []
  },
  {
   "cell_type": "code",
   "execution_count": null,
   "metadata": {},
   "outputs": [],
   "source": []
  },
  {
   "cell_type": "code",
   "execution_count": null,
   "metadata": {},
   "outputs": [],
   "source": []
  }
 ],
 "metadata": {
  "kernelspec": {
   "display_name": "Python 3",
   "language": "python",
   "name": "python3"
  },
  "language_info": {
   "codemirror_mode": {
    "name": "ipython",
    "version": 3
   },
   "file_extension": ".py",
   "mimetype": "text/x-python",
   "name": "python",
   "nbconvert_exporter": "python",
   "pygments_lexer": "ipython3",
   "version": "3.7.6"
  }
 },
 "nbformat": 4,
 "nbformat_minor": 4
}
